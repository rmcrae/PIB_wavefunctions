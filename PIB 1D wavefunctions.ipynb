{
 "cells": [
  {
   "cell_type": "code",
   "execution_count": null,
   "metadata": {},
   "outputs": [],
   "source": [
    "%matplotlib notebook\n",
    "from pylab import *\n",
    "from IPython.display import display, Latex\n",
    "import ipywidgets as widgets"
   ]
  },
  {
   "cell_type": "markdown",
   "metadata": {},
   "source": [
    "## Show Particle in a Box Wavefunctions\n",
    "\n",
    "$$\\psi_n = \\sqrt{\\frac{2}{a}} \\sin \\left( \\frac {n \\pi x}{a} \\right) $$\n",
    "\n",
    "### Use dropdown selectors to pick the quantum number for each of two wavefunctions, one in red, the other in blue\n",
    "### Then clicking the Show Product box will show the product $\\psi_n \\psi_m$ of the two wavefunctions in purple\n",
    "### Note that the product is just another function:  it is not zero!\n",
    "### Clicking on the Show Area box will hide the two original functions and shade in the positive and negative areas (if there are any) of the product function"
   ]
  },
  {
   "cell_type": "code",
   "execution_count": null,
   "metadata": {
    "scrolled": false
   },
   "outputs": [],
   "source": [
    "# set up wavefunctions, outline of well\n",
    "\n",
    "figure(\"Wavefunctions of the Particle in a Box\")\n",
    "limits = (0, 1)\n",
    "x = linspace(*limits, 250)\n",
    "\n",
    "def wf(x, n = 1, a = 1):\n",
    "    return sqrt(2/a) * sin(n*pi*x/a)\n",
    "                   \n",
    "def plotPsi(nlist = range(1, 5), squared=False):\n",
    "    power = 2 if squared else 1\n",
    "    color = 'purple' if squared else 'blue'\n",
    "    for n in nlist:\n",
    "        plot(x, wf(x, n)**power + E(n), color = color)\n",
    "        \n",
    "def plotWaveFunctions(n1 = 1, n2 = 1, showProduct = False, showAreas = False):\n",
    "    ax = gca()\n",
    "    ax.cla()\n",
    "    y1 = wf(x, n1)\n",
    "    y2 = wf(x, n2)\n",
    "    x_axis = zeros(len(x))\n",
    "    if not showAreas:\n",
    "        plot(x, y1, color = 'blue', label = r'$\\psi_{%d}$' % n1)\n",
    "        plot(x, y2, color = 'red', label = r'$\\psi_{%d}$' % n2)\n",
    "        \n",
    "    if showProduct:\n",
    "        y_prod = y1 * y2\n",
    "        plot(x, y_prod, color = 'purple', label = r'$\\psi_{%d} \\psi_{%d}$' % (n1, n2) )\n",
    "        \n",
    "    if showAreas:\n",
    "        fill_between(x, y_prod, x_axis, where=y_prod >= x_axis, facecolor = 'w', hatch = '//' )\n",
    "        fill_between(x, y_prod, x_axis, where = y_prod < x_axis, facecolor = 'w', hatch = '//',\n",
    "                   edgecolor = 'r' )\n",
    "        \n",
    "    ylim([-2.25, 2.25])\n",
    "    hlines([0,], xmin = 0, xmax = 1, color = 'black')\n",
    "    legend()\n",
    "    grid()\n",
    "\n",
    "plotWaveFunctions()\n",
    "\n",
    "N = 20\n",
    "drop_layout = widgets.Layout(width = '75px')\n",
    "check_layout = widgets.Layout(width = '200px')\n",
    "style = {'description_width': 'initial'}\n",
    "label1 = widgets.HTML(value = \"<font color=blue><b>first wavefunction   </b></font>\")\n",
    "label2 = widgets.HTML(value = \"<font color=red><b>second wavefunction   </b></font>\")\n",
    "label2.add_class(\"left-spacing-class\")\n",
    "display(widgets.HTML(\"<style>.left-spacing-class {margin-left: 100px;}</style>\"))\n",
    "drop1 = widgets.Dropdown(options = list(range(1,N+1)), layout = drop_layout)\n",
    "drop2 = widgets.Dropdown(options = list(range(1,N+1)), layout = drop_layout)\n",
    "check = widgets.Checkbox(value=False, description = \"Show Product\", layout = check_layout)\n",
    "check.width = '50px'\n",
    "check2 = widgets.Checkbox(value=False, description = \"Show Areas\", layout = check_layout)\n",
    "\n",
    "def select_data(change):\n",
    "    n1 = drop1.value\n",
    "    n2 = drop2.value\n",
    "    check2.disabled = not check.value\n",
    "    plotWaveFunctions(n1, n2, showProduct = check.value, showAreas = check2.value)\n",
    "    \n",
    "drop1.observe(select_data, names='value')\n",
    "drop2.observe(select_data, names='value')\n",
    "check.observe(select_data, names='value')\n",
    "check2.observe(select_data, names='value')\n",
    "widgets.HBox([label1, drop1, label2, drop2, check, check2])\n"
   ]
  },
  {
   "cell_type": "code",
   "execution_count": null,
   "metadata": {},
   "outputs": [],
   "source": [
    "%%html\n",
    "<style>\n",
    "div.input{\n",
    "    display:none;\n",
    "}\n",
    "</style>"
   ]
  },
  {
   "cell_type": "code",
   "execution_count": null,
   "metadata": {},
   "outputs": [],
   "source": []
  },
  {
   "cell_type": "code",
   "execution_count": null,
   "metadata": {},
   "outputs": [],
   "source": []
  }
 ],
 "metadata": {
  "kernelspec": {
   "display_name": "Python 3",
   "language": "python",
   "name": "python3"
  },
  "language_info": {
   "codemirror_mode": {
    "name": "ipython",
    "version": 3
   },
   "file_extension": ".py",
   "mimetype": "text/x-python",
   "name": "python",
   "nbconvert_exporter": "python",
   "pygments_lexer": "ipython3",
   "version": "3.7.4"
  }
 },
 "nbformat": 4,
 "nbformat_minor": 2
}
